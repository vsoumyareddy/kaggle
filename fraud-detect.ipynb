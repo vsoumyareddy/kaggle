{
 "cells": [
  {
   "cell_type": "code",
   "execution_count": 1,
   "id": "a3d5be57",
   "metadata": {
    "execution": {
     "iopub.execute_input": "2024-04-14T13:12:28.524863Z",
     "iopub.status.busy": "2024-04-14T13:12:28.524235Z",
     "iopub.status.idle": "2024-04-14T13:12:31.154333Z",
     "shell.execute_reply": "2024-04-14T13:12:31.153165Z"
    },
    "papermill": {
     "duration": 2.6438,
     "end_time": "2024-04-14T13:12:31.157157",
     "exception": false,
     "start_time": "2024-04-14T13:12:28.513357",
     "status": "completed"
    },
    "tags": []
   },
   "outputs": [],
   "source": [
    "import pandas as pd\n",
    "\n",
    "from sklearn.model_selection import train_test_split\n",
    "from sklearn.preprocessing import LabelEncoder, StandardScaler\n",
    "from sklearn.linear_model import LogisticRegression\n",
    "from sklearn.tree import DecisionTreeClassifier\n",
    "from sklearn.ensemble import RandomForestClassifier\n",
    "from sklearn.metrics import accuracy_score, classification_report\n",
    "from sklearn.metrics import (accuracy_score, precision_score,\n",
    "                             recall_score, f1_score)"
   ]
  },
  {
   "cell_type": "markdown",
   "id": "7b034144",
   "metadata": {
    "papermill": {
     "duration": 0.007968,
     "end_time": "2024-04-14T13:12:31.173729",
     "exception": false,
     "start_time": "2024-04-14T13:12:31.165761",
     "status": "completed"
    },
    "tags": []
   },
   "source": [
    "IMPORT OF DATA"
   ]
  },
  {
   "cell_type": "code",
   "execution_count": 2,
   "id": "984d5282",
   "metadata": {
    "execution": {
     "iopub.execute_input": "2024-04-14T13:12:31.192434Z",
     "iopub.status.busy": "2024-04-14T13:12:31.191854Z",
     "iopub.status.idle": "2024-04-14T13:12:48.344343Z",
     "shell.execute_reply": "2024-04-14T13:12:48.343149Z"
    },
    "papermill": {
     "duration": 17.164877,
     "end_time": "2024-04-14T13:12:48.346926",
     "exception": false,
     "start_time": "2024-04-14T13:12:31.182049",
     "status": "completed"
    },
    "tags": []
   },
   "outputs": [],
   "source": [
    "df_train = pd.read_csv('/kaggle/input/fraud-detection/fraudTrain.csv')\n",
    "df_test = pd.read_csv('/kaggle/input/fraud-detection/fraudTest.csv')"
   ]
  },
  {
   "cell_type": "code",
   "execution_count": 3,
   "id": "787d55bf",
   "metadata": {
    "execution": {
     "iopub.execute_input": "2024-04-14T13:12:48.365246Z",
     "iopub.status.busy": "2024-04-14T13:12:48.364685Z",
     "iopub.status.idle": "2024-04-14T13:12:48.372603Z",
     "shell.execute_reply": "2024-04-14T13:12:48.371622Z"
    },
    "papermill": {
     "duration": 0.019634,
     "end_time": "2024-04-14T13:12:48.374989",
     "exception": false,
     "start_time": "2024-04-14T13:12:48.355355",
     "status": "completed"
    },
    "tags": []
   },
   "outputs": [
    {
     "data": {
      "text/plain": [
       "((1296675, 23), (555719, 23))"
      ]
     },
     "execution_count": 3,
     "metadata": {},
     "output_type": "execute_result"
    }
   ],
   "source": [
    "df_train.shape, df_test.shape"
   ]
  },
  {
   "cell_type": "markdown",
   "id": "7b32205a",
   "metadata": {
    "papermill": {
     "duration": 0.007968,
     "end_time": "2024-04-14T13:12:48.391508",
     "exception": false,
     "start_time": "2024-04-14T13:12:48.383540",
     "status": "completed"
    },
    "tags": []
   },
   "source": [
    "COMBINE OF DATA WITH TRAIN AND TEST"
   ]
  },
  {
   "cell_type": "code",
   "execution_count": 4,
   "id": "d540a32b",
   "metadata": {
    "execution": {
     "iopub.execute_input": "2024-04-14T13:12:48.409821Z",
     "iopub.status.busy": "2024-04-14T13:12:48.409410Z",
     "iopub.status.idle": "2024-04-14T13:12:48.417288Z",
     "shell.execute_reply": "2024-04-14T13:12:48.416147Z"
    },
    "papermill": {
     "duration": 0.01981,
     "end_time": "2024-04-14T13:12:48.419652",
     "exception": false,
     "start_time": "2024-04-14T13:12:48.399842",
     "status": "completed"
    },
    "tags": []
   },
   "outputs": [
    {
     "data": {
      "text/plain": [
       "True"
      ]
     },
     "execution_count": 4,
     "metadata": {},
     "output_type": "execute_result"
    }
   ],
   "source": [
    "list(df_train.columns) == list(df_test.columns)"
   ]
  },
  {
   "cell_type": "code",
   "execution_count": 5,
   "id": "971abb09",
   "metadata": {
    "execution": {
     "iopub.execute_input": "2024-04-14T13:12:48.439787Z",
     "iopub.status.busy": "2024-04-14T13:12:48.438683Z",
     "iopub.status.idle": "2024-04-14T13:12:48.699470Z",
     "shell.execute_reply": "2024-04-14T13:12:48.698477Z"
    },
    "papermill": {
     "duration": 0.273856,
     "end_time": "2024-04-14T13:12:48.702080",
     "exception": false,
     "start_time": "2024-04-14T13:12:48.428224",
     "status": "completed"
    },
    "tags": []
   },
   "outputs": [],
   "source": [
    "df = pd.concat([df_train, df_test])"
   ]
  },
  {
   "cell_type": "code",
   "execution_count": 6,
   "id": "ddb4ca42",
   "metadata": {
    "execution": {
     "iopub.execute_input": "2024-04-14T13:12:48.721901Z",
     "iopub.status.busy": "2024-04-14T13:12:48.721489Z",
     "iopub.status.idle": "2024-04-14T13:12:48.727938Z",
     "shell.execute_reply": "2024-04-14T13:12:48.726958Z"
    },
    "papermill": {
     "duration": 0.018427,
     "end_time": "2024-04-14T13:12:48.730124",
     "exception": false,
     "start_time": "2024-04-14T13:12:48.711697",
     "status": "completed"
    },
    "tags": []
   },
   "outputs": [
    {
     "data": {
      "text/plain": [
       "(1852394, 23)"
      ]
     },
     "execution_count": 6,
     "metadata": {},
     "output_type": "execute_result"
    }
   ],
   "source": [
    "df.shape"
   ]
  },
  {
   "cell_type": "code",
   "execution_count": 7,
   "id": "cf93adcc",
   "metadata": {
    "execution": {
     "iopub.execute_input": "2024-04-14T13:12:48.749319Z",
     "iopub.status.busy": "2024-04-14T13:12:48.748444Z",
     "iopub.status.idle": "2024-04-14T13:12:48.778449Z",
     "shell.execute_reply": "2024-04-14T13:12:48.776904Z"
    },
    "papermill": {
     "duration": 0.041768,
     "end_time": "2024-04-14T13:12:48.780513",
     "exception": false,
     "start_time": "2024-04-14T13:12:48.738745",
     "status": "completed"
    },
    "tags": []
   },
   "outputs": [
    {
     "name": "stdout",
     "output_type": "stream",
     "text": [
      "<class 'pandas.core.frame.DataFrame'>\n",
      "Index: 1852394 entries, 0 to 555718\n",
      "Data columns (total 23 columns):\n",
      " #   Column                 Dtype  \n",
      "---  ------                 -----  \n",
      " 0   Unnamed: 0             int64  \n",
      " 1   trans_date_trans_time  object \n",
      " 2   cc_num                 int64  \n",
      " 3   merchant               object \n",
      " 4   category               object \n",
      " 5   amt                    float64\n",
      " 6   first                  object \n",
      " 7   last                   object \n",
      " 8   gender                 object \n",
      " 9   street                 object \n",
      " 10  city                   object \n",
      " 11  state                  object \n",
      " 12  zip                    int64  \n",
      " 13  lat                    float64\n",
      " 14  long                   float64\n",
      " 15  city_pop               int64  \n",
      " 16  job                    object \n",
      " 17  dob                    object \n",
      " 18  trans_num              object \n",
      " 19  unix_time              int64  \n",
      " 20  merch_lat              float64\n",
      " 21  merch_long             float64\n",
      " 22  is_fraud               int64  \n",
      "dtypes: float64(5), int64(6), object(12)\n",
      "memory usage: 339.2+ MB\n"
     ]
    }
   ],
   "source": [
    "df.info()"
   ]
  },
  {
   "cell_type": "markdown",
   "id": "409b57b9",
   "metadata": {
    "papermill": {
     "duration": 0.008189,
     "end_time": "2024-04-14T13:12:48.797480",
     "exception": false,
     "start_time": "2024-04-14T13:12:48.789291",
     "status": "completed"
    },
    "tags": []
   },
   "source": [
    "REMOVE UNNECESSARY DATA -DATA CLEANING"
   ]
  },
  {
   "cell_type": "code",
   "execution_count": 8,
   "id": "fdc9d3ba",
   "metadata": {
    "execution": {
     "iopub.execute_input": "2024-04-14T13:12:48.816541Z",
     "iopub.status.busy": "2024-04-14T13:12:48.815738Z",
     "iopub.status.idle": "2024-04-14T13:12:49.049797Z",
     "shell.execute_reply": "2024-04-14T13:12:49.048766Z"
    },
    "papermill": {
     "duration": 0.246303,
     "end_time": "2024-04-14T13:12:49.052416",
     "exception": false,
     "start_time": "2024-04-14T13:12:48.806113",
     "status": "completed"
    },
    "tags": []
   },
   "outputs": [],
   "source": [
    "df =df.drop(['cc_num','first', 'last', 'street', 'city', 'state', 'zip', 'dob','merchant' ,'job','trans_num','trans_date_trans_time'],axis=1)"
   ]
  },
  {
   "cell_type": "code",
   "execution_count": 9,
   "id": "4ea981bc",
   "metadata": {
    "execution": {
     "iopub.execute_input": "2024-04-14T13:12:49.071879Z",
     "iopub.status.busy": "2024-04-14T13:12:49.071237Z",
     "iopub.status.idle": "2024-04-14T13:12:49.091517Z",
     "shell.execute_reply": "2024-04-14T13:12:49.090480Z"
    },
    "papermill": {
     "duration": 0.032633,
     "end_time": "2024-04-14T13:12:49.093898",
     "exception": false,
     "start_time": "2024-04-14T13:12:49.061265",
     "status": "completed"
    },
    "tags": []
   },
   "outputs": [
    {
     "data": {
      "text/html": [
       "<div>\n",
       "<style scoped>\n",
       "    .dataframe tbody tr th:only-of-type {\n",
       "        vertical-align: middle;\n",
       "    }\n",
       "\n",
       "    .dataframe tbody tr th {\n",
       "        vertical-align: top;\n",
       "    }\n",
       "\n",
       "    .dataframe thead th {\n",
       "        text-align: right;\n",
       "    }\n",
       "</style>\n",
       "<table border=\"1\" class=\"dataframe\">\n",
       "  <thead>\n",
       "    <tr style=\"text-align: right;\">\n",
       "      <th></th>\n",
       "      <th>Unnamed: 0</th>\n",
       "      <th>category</th>\n",
       "      <th>amt</th>\n",
       "      <th>gender</th>\n",
       "      <th>lat</th>\n",
       "      <th>long</th>\n",
       "      <th>city_pop</th>\n",
       "      <th>unix_time</th>\n",
       "      <th>merch_lat</th>\n",
       "      <th>merch_long</th>\n",
       "      <th>is_fraud</th>\n",
       "    </tr>\n",
       "  </thead>\n",
       "  <tbody>\n",
       "    <tr>\n",
       "      <th>0</th>\n",
       "      <td>0</td>\n",
       "      <td>misc_net</td>\n",
       "      <td>4.97</td>\n",
       "      <td>F</td>\n",
       "      <td>36.0788</td>\n",
       "      <td>-81.1781</td>\n",
       "      <td>3495</td>\n",
       "      <td>1325376018</td>\n",
       "      <td>36.011293</td>\n",
       "      <td>-82.048315</td>\n",
       "      <td>0</td>\n",
       "    </tr>\n",
       "    <tr>\n",
       "      <th>1</th>\n",
       "      <td>1</td>\n",
       "      <td>grocery_pos</td>\n",
       "      <td>107.23</td>\n",
       "      <td>F</td>\n",
       "      <td>48.8878</td>\n",
       "      <td>-118.2105</td>\n",
       "      <td>149</td>\n",
       "      <td>1325376044</td>\n",
       "      <td>49.159047</td>\n",
       "      <td>-118.186462</td>\n",
       "      <td>0</td>\n",
       "    </tr>\n",
       "    <tr>\n",
       "      <th>2</th>\n",
       "      <td>2</td>\n",
       "      <td>entertainment</td>\n",
       "      <td>220.11</td>\n",
       "      <td>M</td>\n",
       "      <td>42.1808</td>\n",
       "      <td>-112.2620</td>\n",
       "      <td>4154</td>\n",
       "      <td>1325376051</td>\n",
       "      <td>43.150704</td>\n",
       "      <td>-112.154481</td>\n",
       "      <td>0</td>\n",
       "    </tr>\n",
       "    <tr>\n",
       "      <th>3</th>\n",
       "      <td>3</td>\n",
       "      <td>gas_transport</td>\n",
       "      <td>45.00</td>\n",
       "      <td>M</td>\n",
       "      <td>46.2306</td>\n",
       "      <td>-112.1138</td>\n",
       "      <td>1939</td>\n",
       "      <td>1325376076</td>\n",
       "      <td>47.034331</td>\n",
       "      <td>-112.561071</td>\n",
       "      <td>0</td>\n",
       "    </tr>\n",
       "    <tr>\n",
       "      <th>4</th>\n",
       "      <td>4</td>\n",
       "      <td>misc_pos</td>\n",
       "      <td>41.96</td>\n",
       "      <td>M</td>\n",
       "      <td>38.4207</td>\n",
       "      <td>-79.4629</td>\n",
       "      <td>99</td>\n",
       "      <td>1325376186</td>\n",
       "      <td>38.674999</td>\n",
       "      <td>-78.632459</td>\n",
       "      <td>0</td>\n",
       "    </tr>\n",
       "  </tbody>\n",
       "</table>\n",
       "</div>"
      ],
      "text/plain": [
       "   Unnamed: 0       category     amt gender      lat      long  city_pop  \\\n",
       "0           0       misc_net    4.97      F  36.0788  -81.1781      3495   \n",
       "1           1    grocery_pos  107.23      F  48.8878 -118.2105       149   \n",
       "2           2  entertainment  220.11      M  42.1808 -112.2620      4154   \n",
       "3           3  gas_transport   45.00      M  46.2306 -112.1138      1939   \n",
       "4           4       misc_pos   41.96      M  38.4207  -79.4629        99   \n",
       "\n",
       "    unix_time  merch_lat  merch_long  is_fraud  \n",
       "0  1325376018  36.011293  -82.048315         0  \n",
       "1  1325376044  49.159047 -118.186462         0  \n",
       "2  1325376051  43.150704 -112.154481         0  \n",
       "3  1325376076  47.034331 -112.561071         0  \n",
       "4  1325376186  38.674999  -78.632459         0  "
      ]
     },
     "execution_count": 9,
     "metadata": {},
     "output_type": "execute_result"
    }
   ],
   "source": [
    "df.head(5)"
   ]
  },
  {
   "cell_type": "code",
   "execution_count": 10,
   "id": "10d82947",
   "metadata": {
    "execution": {
     "iopub.execute_input": "2024-04-14T13:12:49.114151Z",
     "iopub.status.busy": "2024-04-14T13:12:49.113754Z",
     "iopub.status.idle": "2024-04-14T13:12:49.124153Z",
     "shell.execute_reply": "2024-04-14T13:12:49.123146Z"
    },
    "papermill": {
     "duration": 0.023445,
     "end_time": "2024-04-14T13:12:49.126881",
     "exception": false,
     "start_time": "2024-04-14T13:12:49.103436",
     "status": "completed"
    },
    "tags": []
   },
   "outputs": [
    {
     "name": "stdout",
     "output_type": "stream",
     "text": [
      "<class 'pandas.core.frame.DataFrame'>\n",
      "Index: 1852394 entries, 0 to 555718\n",
      "Data columns (total 11 columns):\n",
      " #   Column      Dtype  \n",
      "---  ------      -----  \n",
      " 0   Unnamed: 0  int64  \n",
      " 1   category    object \n",
      " 2   amt         float64\n",
      " 3   gender      object \n",
      " 4   lat         float64\n",
      " 5   long        float64\n",
      " 6   city_pop    int64  \n",
      " 7   unix_time   int64  \n",
      " 8   merch_lat   float64\n",
      " 9   merch_long  float64\n",
      " 10  is_fraud    int64  \n",
      "dtypes: float64(5), int64(4), object(2)\n",
      "memory usage: 169.6+ MB\n"
     ]
    }
   ],
   "source": [
    "df.info()"
   ]
  },
  {
   "cell_type": "markdown",
   "id": "9b714838",
   "metadata": {
    "papermill": {
     "duration": 0.008584,
     "end_time": "2024-04-14T13:12:49.144492",
     "exception": false,
     "start_time": "2024-04-14T13:12:49.135908",
     "status": "completed"
    },
    "tags": []
   },
   "source": [
    "ENCODER"
   ]
  },
  {
   "cell_type": "code",
   "execution_count": 11,
   "id": "ea5860a6",
   "metadata": {
    "execution": {
     "iopub.execute_input": "2024-04-14T13:12:49.164497Z",
     "iopub.status.busy": "2024-04-14T13:12:49.163433Z",
     "iopub.status.idle": "2024-04-14T13:12:49.167702Z",
     "shell.execute_reply": "2024-04-14T13:12:49.167009Z"
    },
    "papermill": {
     "duration": 0.016132,
     "end_time": "2024-04-14T13:12:49.169564",
     "exception": false,
     "start_time": "2024-04-14T13:12:49.153432",
     "status": "completed"
    },
    "tags": []
   },
   "outputs": [],
   "source": [
    "import warnings\n",
    "warnings.filterwarnings('ignore')"
   ]
  },
  {
   "cell_type": "code",
   "execution_count": 12,
   "id": "4ee11151",
   "metadata": {
    "execution": {
     "iopub.execute_input": "2024-04-14T13:12:49.189771Z",
     "iopub.status.busy": "2024-04-14T13:12:49.188680Z",
     "iopub.status.idle": "2024-04-14T13:12:49.961430Z",
     "shell.execute_reply": "2024-04-14T13:12:49.960302Z"
    },
    "papermill": {
     "duration": 0.785443,
     "end_time": "2024-04-14T13:12:49.964061",
     "exception": false,
     "start_time": "2024-04-14T13:12:49.178618",
     "status": "completed"
    },
    "tags": []
   },
   "outputs": [],
   "source": [
    "from sklearn.preprocessing import LabelEncoder\n",
    "encoder = LabelEncoder()\n",
    "# Fit and transform the 'category' column\n",
    "df['category'] = encoder.fit_transform(df[['category']])\n",
    "df['gender'] = encoder.fit_transform(df[['gender']])"
   ]
  },
  {
   "cell_type": "markdown",
   "id": "5221b594",
   "metadata": {
    "papermill": {
     "duration": 0.009234,
     "end_time": "2024-04-14T13:12:49.982347",
     "exception": false,
     "start_time": "2024-04-14T13:12:49.973113",
     "status": "completed"
    },
    "tags": []
   },
   "source": [
    "PLOT"
   ]
  },
  {
   "cell_type": "code",
   "execution_count": 13,
   "id": "1d19ac37",
   "metadata": {
    "execution": {
     "iopub.execute_input": "2024-04-14T13:12:50.002397Z",
     "iopub.status.busy": "2024-04-14T13:12:50.002028Z",
     "iopub.status.idle": "2024-04-14T13:13:05.595254Z",
     "shell.execute_reply": "2024-04-14T13:13:05.594310Z"
    },
    "papermill": {
     "duration": 15.605999,
     "end_time": "2024-04-14T13:13:05.597694",
     "exception": false,
     "start_time": "2024-04-14T13:12:49.991695",
     "status": "completed"
    },
    "tags": []
   },
   "outputs": [
    {
     "data": {
      "image/png": "[encoded data removed]",
      "text/plain": [
       "<Figure size 1500x600 with 1 Axes>"
      ]
     },
     "metadata": {},
     "output_type": "display_data"
    }
   ],
   "source": [
    "\n",
    "import matplotlib.pyplot as plt\n",
    "import seaborn as sns\n",
    "plt.figure(figsize=(15, 6))\n",
    "sns.barplot(x = 'category', y = 'is_fraud', data = df)\n",
    "plt.title('Fraud vs Category')\n",
    "plt.show()"
   ]
  },
  {
   "cell_type": "markdown",
   "id": "9e5b8794",
   "metadata": {
    "papermill": {
     "duration": 0.009092,
     "end_time": "2024-04-14T13:13:05.616464",
     "exception": false,
     "start_time": "2024-04-14T13:13:05.607372",
     "status": "completed"
    },
    "tags": []
   },
   "source": [
    "TRAIN AND TEST"
   ]
  },
  {
   "cell_type": "code",
   "execution_count": 14,
   "id": "28d1df24",
   "metadata": {
    "execution": {
     "iopub.execute_input": "2024-04-14T13:13:05.636878Z",
     "iopub.status.busy": "2024-04-14T13:13:05.636513Z",
     "iopub.status.idle": "2024-04-14T13:13:05.689696Z",
     "shell.execute_reply": "2024-04-14T13:13:05.688812Z"
    },
    "papermill": {
     "duration": 0.066211,
     "end_time": "2024-04-14T13:13:05.692113",
     "exception": false,
     "start_time": "2024-04-14T13:13:05.625902",
     "status": "completed"
    },
    "tags": []
   },
   "outputs": [],
   "source": [
    "x = df.drop(columns=['is_fraud'])\n",
    "y = df['is_fraud']"
   ]
  },
  {
   "cell_type": "code",
   "execution_count": 15,
   "id": "b3403e64",
   "metadata": {
    "execution": {
     "iopub.execute_input": "2024-04-14T13:13:05.713183Z",
     "iopub.status.busy": "2024-04-14T13:13:05.712768Z",
     "iopub.status.idle": "2024-04-14T13:13:06.172739Z",
     "shell.execute_reply": "2024-04-14T13:13:06.171791Z"
    },
    "papermill": {
     "duration": 0.47368,
     "end_time": "2024-04-14T13:13:06.175483",
     "exception": false,
     "start_time": "2024-04-14T13:13:05.701803",
     "status": "completed"
    },
    "tags": []
   },
   "outputs": [],
   "source": [
    "x_train, x_test, y_train, y_test = train_test_split(x, y, test_size=0.3, random_state=42)"
   ]
  },
  {
   "cell_type": "markdown",
   "id": "55bf0a82",
   "metadata": {
    "papermill": {
     "duration": 0.009095,
     "end_time": "2024-04-14T13:13:06.194255",
     "exception": false,
     "start_time": "2024-04-14T13:13:06.185160",
     "status": "completed"
    },
    "tags": []
   },
   "source": [
    "FRAUD PERCENTAGES"
   ]
  },
  {
   "cell_type": "code",
   "execution_count": 16,
   "id": "3f9c5c3d",
   "metadata": {
    "execution": {
     "iopub.execute_input": "2024-04-14T13:13:06.215922Z",
     "iopub.status.busy": "2024-04-14T13:13:06.215505Z",
     "iopub.status.idle": "2024-04-14T13:13:06.223889Z",
     "shell.execute_reply": "2024-04-14T13:13:06.222521Z"
    },
    "papermill": {
     "duration": 0.022045,
     "end_time": "2024-04-14T13:13:06.226242",
     "exception": false,
     "start_time": "2024-04-14T13:13:06.204197",
     "status": "completed"
    },
    "tags": []
   },
   "outputs": [
    {
     "name": "stdout",
     "output_type": "stream",
     "text": [
      "Fraudulent transactions: 9651 (0.52%)\n",
      "Legitimate transactions: 1842743 (99.48%)\n"
     ]
    }
   ],
   "source": [
    "fraudulent_count = df['is_fraud'].sum()\n",
    "legitimate_count = len(df) - fraudulent_count\n",
    "\n",
    "# Calculate the percentage of fraudulent and legitimate transactions\n",
    "total_transactions = len(df)\n",
    "fraudulent_percentage = (fraudulent_count / total_transactions) * 100\n",
    "legitimate_percentage = (legitimate_count / total_transactions) * 100\n",
    "\n",
    "print(\"Fraudulent transactions: {} ({:.2f}%)\".format(fraudulent_count, fraudulent_percentage))\n",
    "print(\"Legitimate transactions: {} ({:.2f}%)\".format(legitimate_count, legitimate_percentage))"
   ]
  },
  {
   "cell_type": "markdown",
   "id": "52a735c0",
   "metadata": {
    "papermill": {
     "duration": 0.009368,
     "end_time": "2024-04-14T13:13:06.245629",
     "exception": false,
     "start_time": "2024-04-14T13:13:06.236261",
     "status": "completed"
    },
    "tags": []
   },
   "source": [
    "LOGISTIC REEGRESSION"
   ]
  },
  {
   "cell_type": "code",
   "execution_count": 17,
   "id": "ac2a6553",
   "metadata": {
    "execution": {
     "iopub.execute_input": "2024-04-14T13:13:06.266631Z",
     "iopub.status.busy": "2024-04-14T13:13:06.266222Z",
     "iopub.status.idle": "2024-04-14T13:13:09.561968Z",
     "shell.execute_reply": "2024-04-14T13:13:09.560735Z"
    },
    "papermill": {
     "duration": 3.309227,
     "end_time": "2024-04-14T13:13:09.564649",
     "exception": false,
     "start_time": "2024-04-14T13:13:06.255422",
     "status": "completed"
    },
    "tags": []
   },
   "outputs": [
    {
     "data": {
      "text/plain": [
       "0.9948229124491488"
      ]
     },
     "execution_count": 17,
     "metadata": {},
     "output_type": "execute_result"
    }
   ],
   "source": [
    "lr_1 = LogisticRegression()\n",
    "lr_1.fit(x_train, y_train)\n",
    "accuracy_score(y_train, lr_1.predict(x_train))"
   ]
  },
  {
   "cell_type": "code",
   "execution_count": 18,
   "id": "6f89f377",
   "metadata": {
    "execution": {
     "iopub.execute_input": "2024-04-14T13:13:09.587322Z",
     "iopub.status.busy": "2024-04-14T13:13:09.586472Z",
     "iopub.status.idle": "2024-04-14T13:13:09.705749Z",
     "shell.execute_reply": "2024-04-14T13:13:09.704517Z"
    },
    "papermill": {
     "duration": 0.133998,
     "end_time": "2024-04-14T13:13:09.708977",
     "exception": false,
     "start_time": "2024-04-14T13:13:09.574979",
     "status": "completed"
    },
    "tags": []
   },
   "outputs": [
    {
     "data": {
      "text/plain": [
       "0.9947131553896843"
      ]
     },
     "execution_count": 18,
     "metadata": {},
     "output_type": "execute_result"
    }
   ],
   "source": [
    "accuracy_score(y_test, lr_1.predict(x_test))"
   ]
  },
  {
   "cell_type": "code",
   "execution_count": 19,
   "id": "9e811e3a",
   "metadata": {
    "execution": {
     "iopub.execute_input": "2024-04-14T13:13:09.740914Z",
     "iopub.status.busy": "2024-04-14T13:13:09.740494Z",
     "iopub.status.idle": "2024-04-14T13:13:10.678220Z",
     "shell.execute_reply": "2024-04-14T13:13:10.676699Z"
    },
    "papermill": {
     "duration": 0.955309,
     "end_time": "2024-04-14T13:13:10.680977",
     "exception": false,
     "start_time": "2024-04-14T13:13:09.725668",
     "status": "completed"
    },
    "tags": []
   },
   "outputs": [
    {
     "name": "stdout",
     "output_type": "stream",
     "text": [
      "              precision    recall  f1-score   support\n",
      "\n",
      "           0       0.99      1.00      1.00    552781\n",
      "           1       0.00      0.00      0.00      2938\n",
      "\n",
      "    accuracy                           0.99    555719\n",
      "   macro avg       0.50      0.50      0.50    555719\n",
      "weighted avg       0.99      0.99      0.99    555719\n",
      "\n"
     ]
    }
   ],
   "source": [
    "report = classification_report(y_test, lr_1.predict(x_test))\n",
    "print(report)"
   ]
  },
  {
   "cell_type": "code",
   "execution_count": 20,
   "id": "ccba1ff8",
   "metadata": {
    "execution": {
     "iopub.execute_input": "2024-04-14T13:13:10.704287Z",
     "iopub.status.busy": "2024-04-14T13:13:10.703345Z",
     "iopub.status.idle": "2024-04-14T13:13:11.643706Z",
     "shell.execute_reply": "2024-04-14T13:13:11.642726Z"
    },
    "papermill": {
     "duration": 0.954199,
     "end_time": "2024-04-14T13:13:11.646288",
     "exception": false,
     "start_time": "2024-04-14T13:13:10.692089",
     "status": "completed"
    },
    "tags": []
   },
   "outputs": [],
   "source": [
    "table_1 = {}\n",
    "table_1[\"LOGISTIC REEGRESSION\"] = (accuracy_score(y_test, lr_1.predict(x_test)),\n",
    "                               precision_score(y_test, lr_1.predict(x_test), average='micro'),\n",
    "                               recall_score(y_test, lr_1.predict(x_test), average='micro'),\n",
    "                               f1_score(y_test, lr_1.predict(x_test), average='micro'))"
   ]
  },
  {
   "cell_type": "markdown",
   "id": "024deed8",
   "metadata": {
    "papermill": {
     "duration": 0.009479,
     "end_time": "2024-04-14T13:13:11.665720",
     "exception": false,
     "start_time": "2024-04-14T13:13:11.656241",
     "status": "completed"
    },
    "tags": []
   },
   "source": [
    "DECISION TREE"
   ]
  },
  {
   "cell_type": "code",
   "execution_count": 21,
   "id": "20e1e1cb",
   "metadata": {
    "execution": {
     "iopub.execute_input": "2024-04-14T13:13:11.687524Z",
     "iopub.status.busy": "2024-04-14T13:13:11.686553Z",
     "iopub.status.idle": "2024-04-14T13:13:41.008678Z",
     "shell.execute_reply": "2024-04-14T13:13:41.007707Z"
    },
    "papermill": {
     "duration": 29.335474,
     "end_time": "2024-04-14T13:13:41.011012",
     "exception": false,
     "start_time": "2024-04-14T13:13:11.675538",
     "status": "completed"
    },
    "tags": []
   },
   "outputs": [
    {
     "data": {
      "text/plain": [
       "1.0"
      ]
     },
     "execution_count": 21,
     "metadata": {},
     "output_type": "execute_result"
    }
   ],
   "source": [
    "dt_1= DecisionTreeClassifier()\n",
    "dt_1.fit(x_train, y_train)\n",
    "accuracy_score(y_train, dt_1.predict(x_train))"
   ]
  },
  {
   "cell_type": "code",
   "execution_count": 22,
   "id": "0fe614f0",
   "metadata": {
    "execution": {
     "iopub.execute_input": "2024-04-14T13:13:41.032602Z",
     "iopub.status.busy": "2024-04-14T13:13:41.032210Z",
     "iopub.status.idle": "2024-04-14T13:13:41.149757Z",
     "shell.execute_reply": "2024-04-14T13:13:41.148671Z"
    },
    "papermill": {
     "duration": 0.130822,
     "end_time": "2024-04-14T13:13:41.151931",
     "exception": false,
     "start_time": "2024-04-14T13:13:41.021109",
     "status": "completed"
    },
    "tags": []
   },
   "outputs": [
    {
     "data": {
      "text/plain": [
       "0.9962517027490513"
      ]
     },
     "execution_count": 22,
     "metadata": {},
     "output_type": "execute_result"
    }
   ],
   "source": [
    "accuracy_score(y_test, dt_1.predict(x_test))"
   ]
  },
  {
   "cell_type": "code",
   "execution_count": 23,
   "id": "c13db9c0",
   "metadata": {
    "execution": {
     "iopub.execute_input": "2024-04-14T13:13:41.173834Z",
     "iopub.status.busy": "2024-04-14T13:13:41.173453Z",
     "iopub.status.idle": "2024-04-14T13:13:42.073579Z",
     "shell.execute_reply": "2024-04-14T13:13:42.072430Z"
    },
    "papermill": {
     "duration": 0.913499,
     "end_time": "2024-04-14T13:13:42.075680",
     "exception": false,
     "start_time": "2024-04-14T13:13:41.162181",
     "status": "completed"
    },
    "tags": []
   },
   "outputs": [
    {
     "name": "stdout",
     "output_type": "stream",
     "text": [
      "              precision    recall  f1-score   support\n",
      "\n",
      "           0       1.00      1.00      1.00    552781\n",
      "           1       0.64      0.67      0.65      2938\n",
      "\n",
      "    accuracy                           1.00    555719\n",
      "   macro avg       0.82      0.83      0.83    555719\n",
      "weighted avg       1.00      1.00      1.00    555719\n",
      "\n"
     ]
    }
   ],
   "source": [
    "report = classification_report(y_test, dt_1.predict(x_test))\n",
    "print(report)"
   ]
  },
  {
   "cell_type": "code",
   "execution_count": 24,
   "id": "c29d1cfb",
   "metadata": {
    "execution": {
     "iopub.execute_input": "2024-04-14T13:13:42.097941Z",
     "iopub.status.busy": "2024-04-14T13:13:42.097174Z",
     "iopub.status.idle": "2024-04-14T13:13:42.991347Z",
     "shell.execute_reply": "2024-04-14T13:13:42.990430Z"
    },
    "papermill": {
     "duration": 0.907866,
     "end_time": "2024-04-14T13:13:42.993702",
     "exception": false,
     "start_time": "2024-04-14T13:13:42.085836",
     "status": "completed"
    },
    "tags": []
   },
   "outputs": [],
   "source": [
    "table_1[\"DECISION TREE\"] = (accuracy_score(y_test, dt_1.predict(x_test)),\n",
    "                               precision_score(y_test, dt_1.predict(x_test), average='micro'),\n",
    "                               recall_score(y_test, dt_1.predict(x_test), average='micro'),\n",
    "                               f1_score(y_test, dt_1.predict(x_test), average='micro'))"
   ]
  },
  {
   "cell_type": "markdown",
   "id": "5971310f",
   "metadata": {
    "papermill": {
     "duration": 0.009853,
     "end_time": "2024-04-14T13:13:43.013689",
     "exception": false,
     "start_time": "2024-04-14T13:13:43.003836",
     "status": "completed"
    },
    "tags": []
   },
   "source": [
    "RANDOM FOREST"
   ]
  },
  {
   "cell_type": "code",
   "execution_count": 25,
   "id": "a03d90a7",
   "metadata": {
    "execution": {
     "iopub.execute_input": "2024-04-14T13:13:43.036021Z",
     "iopub.status.busy": "2024-04-14T13:13:43.035037Z",
     "iopub.status.idle": "2024-04-14T13:27:46.158923Z",
     "shell.execute_reply": "2024-04-14T13:27:46.157333Z"
    },
    "papermill": {
     "duration": 843.149414,
     "end_time": "2024-04-14T13:27:46.173238",
     "exception": false,
     "start_time": "2024-04-14T13:13:43.023824",
     "status": "completed"
    },
    "tags": []
   },
   "outputs": [
    {
     "data": {
      "text/plain": [
       "0.9999976863901903"
      ]
     },
     "execution_count": 25,
     "metadata": {},
     "output_type": "execute_result"
    }
   ],
   "source": [
    "from sklearn.ensemble import RandomForestClassifier\n",
    "rf_1 = RandomForestClassifier()\n",
    "rf_1.fit(x_train, y_train)\n",
    "accuracy_score(y_train, rf_1.predict(x_train))"
   ]
  },
  {
   "cell_type": "code",
   "execution_count": 26,
   "id": "6e56cbab",
   "metadata": {
    "execution": {
     "iopub.execute_input": "2024-04-14T13:27:46.197417Z",
     "iopub.status.busy": "2024-04-14T13:27:46.196884Z",
     "iopub.status.idle": "2024-04-14T13:27:53.780024Z",
     "shell.execute_reply": "2024-04-14T13:27:53.778917Z"
    },
    "papermill": {
     "duration": 7.599008,
     "end_time": "2024-04-14T13:27:53.782434",
     "exception": false,
     "start_time": "2024-04-14T13:27:46.183426",
     "status": "completed"
    },
    "tags": []
   },
   "outputs": [
    {
     "data": {
      "text/plain": [
       "0.997624698813609"
      ]
     },
     "execution_count": 26,
     "metadata": {},
     "output_type": "execute_result"
    }
   ],
   "source": [
    "accuracy_score(y_test, rf_1.predict(x_test))"
   ]
  },
  {
   "cell_type": "code",
   "execution_count": 27,
   "id": "67c47e80",
   "metadata": {
    "execution": {
     "iopub.execute_input": "2024-04-14T13:27:53.877426Z",
     "iopub.status.busy": "2024-04-14T13:27:53.876583Z",
     "iopub.status.idle": "2024-04-14T13:28:02.301378Z",
     "shell.execute_reply": "2024-04-14T13:28:02.300209Z"
    },
    "papermill": {
     "duration": 8.439578,
     "end_time": "2024-04-14T13:28:02.303730",
     "exception": false,
     "start_time": "2024-04-14T13:27:53.864152",
     "status": "completed"
    },
    "tags": []
   },
   "outputs": [
    {
     "name": "stdout",
     "output_type": "stream",
     "text": [
      "              precision    recall  f1-score   support\n",
      "\n",
      "           0       1.00      1.00      1.00    552781\n",
      "           1       0.85      0.67      0.75      2938\n",
      "\n",
      "    accuracy                           1.00    555719\n",
      "   macro avg       0.92      0.83      0.87    555719\n",
      "weighted avg       1.00      1.00      1.00    555719\n",
      "\n"
     ]
    }
   ],
   "source": [
    "report = classification_report(y_test, rf_1.predict(x_test))\n",
    "print(report)"
   ]
  },
  {
   "cell_type": "code",
   "execution_count": 28,
   "id": "bb43b770",
   "metadata": {
    "execution": {
     "iopub.execute_input": "2024-04-14T13:28:02.327811Z",
     "iopub.status.busy": "2024-04-14T13:28:02.327416Z",
     "iopub.status.idle": "2024-04-14T13:28:33.276676Z",
     "shell.execute_reply": "2024-04-14T13:28:33.275610Z"
    },
    "papermill": {
     "duration": 30.964199,
     "end_time": "2024-04-14T13:28:33.279239",
     "exception": false,
     "start_time": "2024-04-14T13:28:02.315040",
     "status": "completed"
    },
    "tags": []
   },
   "outputs": [],
   "source": [
    "table_1[\"RANDOM FOREST\"] = (accuracy_score(y_test, rf_1.predict(x_test)),\n",
    "                               precision_score(y_test, rf_1.predict(x_test), average='micro'),\n",
    "                               recall_score(y_test, rf_1.predict(x_test), average='micro'),\n",
    "                               f1_score(y_test, rf_1.predict(x_test), average='micro'))"
   ]
  },
  {
   "cell_type": "code",
   "execution_count": 29,
   "id": "df753356",
   "metadata": {
    "execution": {
     "iopub.execute_input": "2024-04-14T13:28:33.302721Z",
     "iopub.status.busy": "2024-04-14T13:28:33.302292Z",
     "iopub.status.idle": "2024-04-14T13:28:33.316452Z",
     "shell.execute_reply": "2024-04-14T13:28:33.315395Z"
    },
    "papermill": {
     "duration": 0.028534,
     "end_time": "2024-04-14T13:28:33.318689",
     "exception": false,
     "start_time": "2024-04-14T13:28:33.290155",
     "status": "completed"
    },
    "tags": []
   },
   "outputs": [
    {
     "data": {
      "text/html": [
       "<div>\n",
       "<style scoped>\n",
       "    .dataframe tbody tr th:only-of-type {\n",
       "        vertical-align: middle;\n",
       "    }\n",
       "\n",
       "    .dataframe tbody tr th {\n",
       "        vertical-align: top;\n",
       "    }\n",
       "\n",
       "    .dataframe thead th {\n",
       "        text-align: right;\n",
       "    }\n",
       "</style>\n",
       "<table border=\"1\" class=\"dataframe\">\n",
       "  <thead>\n",
       "    <tr style=\"text-align: right;\">\n",
       "      <th></th>\n",
       "      <th>LOGISTIC REEGRESSION</th>\n",
       "      <th>DECISION TREE</th>\n",
       "      <th>RANDOM FOREST</th>\n",
       "    </tr>\n",
       "  </thead>\n",
       "  <tbody>\n",
       "    <tr>\n",
       "      <th>accuracy</th>\n",
       "      <td>0.994713</td>\n",
       "      <td>0.996252</td>\n",
       "      <td>0.997625</td>\n",
       "    </tr>\n",
       "    <tr>\n",
       "      <th>precision</th>\n",
       "      <td>0.994713</td>\n",
       "      <td>0.996252</td>\n",
       "      <td>0.997625</td>\n",
       "    </tr>\n",
       "    <tr>\n",
       "      <th>recall</th>\n",
       "      <td>0.994713</td>\n",
       "      <td>0.996252</td>\n",
       "      <td>0.997625</td>\n",
       "    </tr>\n",
       "    <tr>\n",
       "      <th>f1score</th>\n",
       "      <td>0.994713</td>\n",
       "      <td>0.996252</td>\n",
       "      <td>0.997625</td>\n",
       "    </tr>\n",
       "  </tbody>\n",
       "</table>\n",
       "</div>"
      ],
      "text/plain": [
       "           LOGISTIC REEGRESSION  DECISION TREE  RANDOM FOREST\n",
       "accuracy               0.994713       0.996252       0.997625\n",
       "precision              0.994713       0.996252       0.997625\n",
       "recall                 0.994713       0.996252       0.997625\n",
       "f1score                0.994713       0.996252       0.997625"
      ]
     },
     "execution_count": 29,
     "metadata": {},
     "output_type": "execute_result"
    }
   ],
   "source": [
    "pd.DataFrame(table_1, index=[\"accuracy\", \"precision\", \"recall\", \"f1score\"])"
   ]
  },
  {
   "cell_type": "code",
   "execution_count": null,
   "id": "279920d4",
   "metadata": {
    "papermill": {
     "duration": 0.010754,
     "end_time": "2024-04-14T13:28:33.340786",
     "exception": false,
     "start_time": "2024-04-14T13:28:33.330032",
     "status": "completed"
    },
    "tags": []
   },
   "outputs": [],
   "source": []
  }
 ],
 "metadata": {
  "kaggle": {
   "accelerator": "none",
   "dataSources": [
    {
     "datasetId": 817870,
     "sourceId": 1399887,
     "sourceType": "datasetVersion"
    }
   ],
   "dockerImageVersionId": 30664,
   "isGpuEnabled": false,
   "isInternetEnabled": false,
   "language": "python",
   "sourceType": "notebook"
  },
  "kernelspec": {
   "display_name": "Python 3",
   "language": "python",
   "name": "python3"
  },
  "language_info": {
   "codemirror_mode": {
    "name": "ipython",
    "version": 3
   },
   "file_extension": ".py",
   "mimetype": "text/x-python",
   "name": "python",
   "nbconvert_exporter": "python",
   "pygments_lexer": "ipython3",
   "version": "3.10.13"
  },
  "papermill": {
   "default_parameters": {},
   "duration": 968.777119,
   "end_time": "2024-04-14T13:28:34.276467",
   "environment_variables": {},
   "exception": null,
   "input_path": "__notebook__.ipynb",
   "output_path": "__notebook__.ipynb",
   "parameters": {},
   "start_time": "2024-04-14T13:12:25.499348",
   "version": "2.5.0"
  }
 },
 "nbformat": 4,
 "nbformat_minor": 5
}
